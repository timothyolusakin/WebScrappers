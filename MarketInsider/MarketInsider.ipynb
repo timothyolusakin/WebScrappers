{
 "cells": [
  {
   "cell_type": "code",
   "execution_count": 148,
   "metadata": {},
   "outputs": [],
   "source": [
    "import bs4\n",
    "import requests\n",
    "import pandas as pd\n",
    "import os \n",
    "import re\n",
    "from itertools import product\n",
    "from time import sleep"
   ]
  },
  {
   "cell_type": "code",
   "execution_count": 149,
   "metadata": {},
   "outputs": [],
   "source": [
    "def article_clean(articles):\n",
    "    article = articles.text\n",
    "    article = article.replace('\\n','').strip()\n",
    "    article = article.replace('\\t','').strip()\n",
    "    article = article.replace('\\xa0','').strip()\n",
    "    article = article.replace('\\r','').strip() \n",
    "    article = re.sub(r'\\(NASDAQ: [A-Z]+\\)', '', article).strip()\n",
    "    article = re.sub(r'\\(NYSE: [A-Z]+\\)', '', article).strip()\n",
    "    article = article.replace('Continue reading','').strip()\n",
    "    article = article.replace('  ','').strip()\n",
    "    return article"
   ]
  },
  {
   "cell_type": "code",
   "execution_count": 150,
   "metadata": {},
   "outputs": [],
   "source": [
    "def get_article(url) -> str:\n",
    "    response = requests.get(url)\n",
    "    soup = bs4.BeautifulSoup(response.text, 'html.parser')\n",
    "    articles = soup.find('div', {'class': 'col-xs-12 news-content no-padding'})\n",
    "    if articles is None:\n",
    "        return ''\n",
    "    if articles.find(\"span\",{\"class\":\"btn-more\"}) is None:\n",
    "        return article_clean(articles)\n",
    "    articles.find(\"span\",{\"class\":\"btn-more\"}).decompose()\n",
    "    return article_clean(articles)"
   ]
  },
  {
   "cell_type": "code",
   "execution_count": 151,
   "metadata": {},
   "outputs": [
    {
     "data": {
      "text/plain": [
       "\"Starbucks and Costco Wholesale both withstood the S&P 500's 14% decline over the past 12 months. Starbucks' stock rose 7%, while Costco experienced a mild decline of 4%. Let's see why these two S&P 500 companies outperformed so many of their peers -- and if one is a more promising investment right now.At first glance, Starbucks might seem like a risky investment. The coffee chain is heavily exposed to inflation, which drives up its costs and curbs the market's appetite for its pricey beverages. And the COVID-19 lockdowns in China affected its second-largest market after the United States.Starbucks also faces unionization demands in the U.S., while founder Howard Schultz -- who returned as its interim CEO last year -- is in the process of handing the reins to its new CEO, Laxman Narasimhan.\""
      ]
     },
     "execution_count": 151,
     "metadata": {},
     "output_type": "execute_result"
    }
   ],
   "source": [
    "get_article(\"https://markets.businessinsider.com/news/stocks/better-buy--starbucks-vs--costco-12080493\")"
   ]
  },
  {
   "cell_type": "code",
   "execution_count": 152,
   "metadata": {},
   "outputs": [],
   "source": [
    "def get_articles(company:str,page_lenght:int,sleeptime:int = 1,page_number:int = 1) -> tuple:\n",
    "    result = []\n",
    "    try:\n",
    "        for page in range(page_number,page_lenght+1):\n",
    "            url = f\"https://markets.businessinsider.com/news/{company}?p={page}&\"\n",
    "            response = requests.get(url)\n",
    "            news_header = \"https://markets.businessinsider.com\"\n",
    "            soup = bs4.BeautifulSoup(response.text, 'html.parser')\n",
    "            if \"No news found\" in soup.find('main', {'class': 'site-content'}).text:\n",
    "                break\n",
    "            articles = soup.find('main', {'class': 'site-content'}).find_all('div', {'class': 'latest-news__story'})\n",
    "            for article in articles:\n",
    "                page = round(len(result) // 50) \n",
    "                print(f\"Page: {page} - Articles: {len(result)}\", end=\"\\r\")\n",
    "                source = article.find('span', {'class': 'latest-news__source'}).text\n",
    "                if source.lower() != \"seeking alpha\":\n",
    "                    link = news_header+article.find('a').get('href')\n",
    "                    title = article.find('a').text\n",
    "                    date = article.find('time', {'class': 'latest-news__date'}).text\n",
    "                    article = get_article(link)\n",
    "                    result.append([source, link, title, article,date])\t\n",
    "                sleep(sleeptime)\n",
    "    except Exception as e:\n",
    "        if e == ConnectionError:\n",
    "            sleepti = sleeptime + 5\n",
    "            page_num = round(len(result) // 50)\n",
    "            get_articles(company,page_lenght,sleepti,page_num)\n",
    "        print(e)\n",
    "    return result"
   ]
  },
  {
   "cell_type": "code",
   "execution_count": 154,
   "metadata": {},
   "outputs": [
    {
     "name": "stdout",
     "output_type": "stream",
     "text": [
      "Page: 0 - Articles: 44\r"
     ]
    }
   ],
   "source": [
    "damn = get_articles(\"cost\",1)"
   ]
  },
  {
   "cell_type": "code",
   "execution_count": 145,
   "metadata": {},
   "outputs": [
    {
     "data": {
      "text/plain": [
       "45"
      ]
     },
     "execution_count": 145,
     "metadata": {},
     "output_type": "execute_result"
    }
   ],
   "source": [
    "len(damn)"
   ]
  },
  {
   "cell_type": "code",
   "execution_count": 146,
   "metadata": {},
   "outputs": [],
   "source": [
    "df = pd.DataFrame(damn, columns=['Source','Link', 'Title', 'Article','Date'])\n",
    "df.to_csv('costco.csv', index=False)"
   ]
  }
 ],
 "metadata": {
  "kernelspec": {
   "display_name": "Python 3",
   "language": "python",
   "name": "python3"
  },
  "language_info": {
   "codemirror_mode": {
    "name": "ipython",
    "version": 3
   },
   "file_extension": ".py",
   "mimetype": "text/x-python",
   "name": "python",
   "nbconvert_exporter": "python",
   "pygments_lexer": "ipython3",
   "version": "3.10.7"
  },
  "orig_nbformat": 4,
  "vscode": {
   "interpreter": {
    "hash": "b8fc0ea52e3e7601ff15187871f0f413d17fa83b2d6b7f7b05a065bcb45e4696"
   }
  }
 },
 "nbformat": 4,
 "nbformat_minor": 2
}

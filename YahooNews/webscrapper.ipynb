{
 "cells": [
  {
   "cell_type": "code",
   "execution_count": 15,
   "metadata": {},
   "outputs": [],
   "source": [
    "import requests\n",
    "from bs4 import BeautifulSoup"
   ]
  },
  {
   "cell_type": "code",
   "execution_count": 16,
   "metadata": {},
   "outputs": [],
   "source": [
    "headers = {\n",
    "    'accept': '*/*',\n",
    "    'accept-encoding': 'gzip, deflate, br',\n",
    "    'accept-language': 'en-US,en;q=0.9',\n",
    "    'referer': 'https://www.google.com',\n",
    "    'user-agent': 'Mozilla/5.0 (Windows NT 10.0; Win64; x64) AppleWebKit/537.36 (KHTML, like Gecko) Chrome/85.0.4183.83 Safari/537.36 Edg/85.0.564.44'\n",
    "}\n"
   ]
  },
  {
   "cell_type": "code",
   "execution_count": 45,
   "metadata": {},
   "outputs": [],
   "source": [
    "test_url = \"https://finance.yahoo.com/quote/FERG/press-releases\"\n",
    "\n",
    "r = requests.get(test_url, headers=headers, timeout= 10) # timeout in seconds (5 second\n",
    "\n",
    "soup = BeautifulSoup(r.content, \"html.parser\")"
   ]
  },
  {
   "cell_type": "code",
   "execution_count": 46,
   "metadata": {},
   "outputs": [
    {
     "name": "stdout",
     "output_type": "stream",
     "text": [
      "In accordance with DTR 5.6.1, the Company hereby notifies the following:\n",
      "24-Hour Live-In Carer in 2022 Prices Might Surprise You\n",
      "Ferguson plc (NYSE:FERG)(LSE:FERG) (the \"Company\") announces today that it purchased a total of 100,000 of its ordinary shares in the period from December 26, 2022 up to and including December 30, 2022 in connection with its $2.5 billion share repurchase program.\n"
     ]
    }
   ],
   "source": [
    "main = soup.find(\"div\", {\"id\": \"summaryPressStream-0-Stream-Proxy\"})\n",
    "crane = main.find(\"ul\").find_all(\"li\", {\"class\": \"js-stream-content\"})\n",
    "\n",
    "for i in crane:\n",
    "    print(i.find(\"p\",{\"class\": \"Fz(14px)\"}).text)"
   ]
  },
  {
   "cell_type": "code",
   "execution_count": 47,
   "metadata": {},
   "outputs": [
    {
     "name": "stdout",
     "output_type": "stream",
     "text": [
      "In accordance with DTR 5.6.1, the Company hereby notifies the following:\n",
      "24-Hour Live-In Carer in 2022 Prices Might Surprise You\n",
      "Ferguson plc (NYSE:FERG)(LSE:FERG) (the \"Company\") announces today that it purchased a total of 100,000 of its ordinary shares in the period from December 26, 2022 up to and including December 30, 2022 in connection with its $2.5 billion share repurchase program.\n"
     ]
    }
   ],
   "source": [
    "main = soup.find_all(\"li\", {\"class\": \"js-stream-content\"})\n",
    "for i in main:\n",
    "    print(i.find(\"p\",{\"class\": \"Fz(14px)\"}).text)"
   ]
  }
 ],
 "metadata": {
  "kernelspec": {
   "display_name": "Python 3",
   "language": "python",
   "name": "python3"
  },
  "language_info": {
   "codemirror_mode": {
    "name": "ipython",
    "version": 3
   },
   "file_extension": ".py",
   "mimetype": "text/x-python",
   "name": "python",
   "nbconvert_exporter": "python",
   "pygments_lexer": "ipython3",
   "version": "3.10.7 (tags/v3.10.7:6cc6b13, Sep  5 2022, 14:08:36) [MSC v.1933 64 bit (AMD64)]"
  },
  "orig_nbformat": 4,
  "vscode": {
   "interpreter": {
    "hash": "b8fc0ea52e3e7601ff15187871f0f413d17fa83b2d6b7f7b05a065bcb45e4696"
   }
  }
 },
 "nbformat": 4,
 "nbformat_minor": 2
}
